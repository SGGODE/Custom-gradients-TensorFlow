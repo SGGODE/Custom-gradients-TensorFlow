{
  "nbformat": 4,
  "nbformat_minor": 0,
  "metadata": {
    "colab": {
      "provenance": []
    },
    "kernelspec": {
      "name": "python3",
      "display_name": "Python 3"
    },
    "language_info": {
      "name": "python"
    }
  },
  "cells": [
    {
      "cell_type": "code",
      "execution_count": null,
      "metadata": {
        "id": "2Rbe5R61TD1B"
      },
      "outputs": [],
      "source": [
        "import tensorflow as tf\n",
        "from tensorflow.keras.datasets import mnist\n",
        "\n",
        "(x_train, y_train), (x_test, y_test) = mnist.load_data()\n",
        "x_train = x_train.astype('float32') / 255.0\n",
        "x_test = x_test.astype('float32') / 255.0\n"
      ]
    },
    {
      "cell_type": "code",
      "source": [
        "def custom_relu(x):\n",
        "  return tf.maximum(x, 0.0)\n",
        "\n",
        "def custom_relu_grad(x):\n",
        "  return tf.where(x > 0, tf.ones_like(x), tf.zeros_like(x))\n",
        "\n",
        "@tf.custom_gradient\n",
        "def custom_relu_op(x):\n",
        "  y = custom_relu(x)\n",
        "  def grad(dy):\n",
        "    return custom_relu_grad(x) * dy\n",
        "  return y, grad\n"
      ],
      "metadata": {
        "id": "I8k41iuxTFgE"
      },
      "execution_count": null,
      "outputs": []
    },
    {
      "cell_type": "code",
      "source": [
        "# Model A (Default ReLU)\n",
        "model_a = tf.keras.Sequential([\n",
        "  tf.keras.layers.Flatten(input_shape=(28, 28)),\n",
        "  tf.keras.layers.Dense(128, activation='relu'),\n",
        "  tf.keras.layers.Dense(10, activation='softmax')\n",
        "])\n",
        "\n",
        "# Model B (Custom ReLU)\n",
        "model_b = tf.keras.Sequential([\n",
        "  tf.keras.layers.Flatten(input_shape=(28, 28)),\n",
        "  tf.keras.layers.Dense(128, activation=custom_relu_op),\n",
        "  tf.keras.layers.Dense(10, activation='softmax')\n",
        "])\n"
      ],
      "metadata": {
        "id": "HpnxBcHHlVu5"
      },
      "execution_count": null,
      "outputs": []
    },
    {
      "cell_type": "code",
      "source": [
        "model_a.compile(optimizer='adam', loss='sparse_categorical_crossentropy', metrics=['accuracy'])\n",
        "model_b.compile(optimizer='adam', loss='sparse_categorical_crossentropy', metrics=['accuracy'])\n",
        "\n",
        "model_a.fit(x_train, y_train, epochs=5)\n",
        "model_b.fit(x_train, y_train, epochs=5)\n",
        "\n",
        "test_loss_a, test_acc_a = model_a.evaluate(x_test, y_test)\n",
        "test_loss_b, test_acc_b = model_b.evaluate(x_test, y_test)\n",
        "\n",
        "print(\"Model A (Default ReLU): Test Accuracy:\", test_acc_a)\n",
        "print(\"Model B (Custom ReLU): Test Accuracy:\", test_acc_b)\n"
      ],
      "metadata": {
        "colab": {
          "base_uri": "https://localhost:8080/"
        },
        "id": "gO-2uUWhoTJ_",
        "outputId": "1db1b54c-a5f9-4d1e-be2e-c7aba5bb0a96"
      },
      "execution_count": null,
      "outputs": [
        {
          "output_type": "stream",
          "name": "stdout",
          "text": [
            "Epoch 1/5\n",
            "1875/1875 [==============================] - 7s 3ms/step - loss: 0.2579 - accuracy: 0.9273\n",
            "Epoch 2/5\n",
            "1875/1875 [==============================] - 6s 3ms/step - loss: 0.1131 - accuracy: 0.9665\n",
            "Epoch 3/5\n",
            "1875/1875 [==============================] - 6s 3ms/step - loss: 0.0773 - accuracy: 0.9767\n",
            "Epoch 4/5\n",
            "1875/1875 [==============================] - 6s 3ms/step - loss: 0.0573 - accuracy: 0.9821\n",
            "Epoch 5/5\n",
            "1875/1875 [==============================] - 7s 4ms/step - loss: 0.0437 - accuracy: 0.9860\n",
            "Epoch 1/5\n",
            "1875/1875 [==============================] - 8s 4ms/step - loss: 0.2564 - accuracy: 0.9270\n",
            "Epoch 2/5\n",
            "1875/1875 [==============================] - 6s 3ms/step - loss: 0.1126 - accuracy: 0.9671\n",
            "Epoch 3/5\n",
            "1875/1875 [==============================] - 7s 4ms/step - loss: 0.0779 - accuracy: 0.9768\n",
            "Epoch 4/5\n",
            "1875/1875 [==============================] - 6s 3ms/step - loss: 0.0579 - accuracy: 0.9824\n",
            "Epoch 5/5\n",
            "1875/1875 [==============================] - 7s 4ms/step - loss: 0.0446 - accuracy: 0.9862\n",
            "313/313 [==============================] - 1s 2ms/step - loss: 0.0798 - accuracy: 0.9753\n",
            "313/313 [==============================] - 1s 2ms/step - loss: 0.0749 - accuracy: 0.9787\n",
            "Model A (Default ReLU): Test Accuracy: 0.9753000140190125\n",
            "Model B (Custom ReLU): Test Accuracy: 0.9786999821662903\n"
          ]
        }
      ]
    },
    {
      "cell_type": "code",
      "source": [],
      "metadata": {
        "id": "GhH1YS5MoWEp"
      },
      "execution_count": null,
      "outputs": []
    }
  ]
}